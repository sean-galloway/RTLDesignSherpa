{
 "cells": [
  {
   "cell_type": "code",
   "execution_count": 1,
   "metadata": {},
   "outputs": [],
   "source": [
    "from rtl_generators.adders.brentkung.black import Black\n",
    "from rtl_generators.adders.brentkung.gray import Gray\n",
    "from rtl_generators.adders.brentkung.pg import PG\n",
    "from rtl_generators.adders.brentkung.bitwise_pg_logic import BitwisePGLogic\n",
    "from rtl_generators.adders.brentkung.group_pg_logic import GroupPGLogic\n",
    "from rtl_generators.adders.brentkung.sum_logic import SumLogic\n",
    "from rtl_generators.adders.brentkung.brent_kung_adder import BrentKungAdder"
   ]
  },
  {
   "cell_type": "code",
   "execution_count": 2,
   "metadata": {},
   "outputs": [],
   "source": [
    "b = Black()\n",
    "g = Gray()\n",
    "pg = PG()\n",
    "bwpg = BitwisePGLogic(buswidth=8)\n",
    "grppg = GroupPGLogic(buswidth=8)\n",
    "s = SumLogic(buswidth=8)\n",
    "bk = BrentKungAdder(buswidth=8)"
   ]
  },
  {
   "cell_type": "code",
   "execution_count": 3,
   "metadata": {},
   "outputs": [],
   "source": [
    "b.verilog('./bk_outputs/')\n",
    "g.verilog('./bk_outputs/')\n",
    "pg.verilog('./bk_outputs/')\n",
    "bwpg.verilog('./bk_outputs/')\n",
    "grppg.verilog('./bk_outputs/')\n",
    "s.verilog('./bk_outputs/')\n",
    "bk.verilog('./bk_outputs/')"
   ]
  },
  {
   "cell_type": "code",
   "execution_count": null,
   "metadata": {},
   "outputs": [],
   "source": []
  },
  {
   "cell_type": "code",
   "execution_count": null,
   "metadata": {},
   "outputs": [],
   "source": []
  }
 ],
 "metadata": {
  "kernelspec": {
   "display_name": ".venv",
   "language": "python",
   "name": "python3"
  },
  "language_info": {
   "codemirror_mode": {
    "name": "ipython",
    "version": 3
   },
   "file_extension": ".py",
   "mimetype": "text/x-python",
   "name": "python",
   "nbconvert_exporter": "python",
   "pygments_lexer": "ipython3",
   "version": "3.10.12"
  },
  "orig_nbformat": 4
 },
 "nbformat": 4,
 "nbformat_minor": 2
}
