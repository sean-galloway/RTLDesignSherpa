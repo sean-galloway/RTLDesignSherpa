{
 "cells": [
  {
   "cell_type": "code",
   "execution_count": 1,
   "metadata": {},
   "outputs": [],
   "source": [
    "import cocotb\n",
    "from cocotb.triggers import RisingEdge, Timer\n",
    "from cocotb.clock import Clock\n",
    "from cocotb.queue import Queue\n",
    "import os\n",
    "import subprocess\n",
    "import random\n",
    "import math\n",
    "import pytest\n",
    "from cocotb_test.simulator import run\n",
    "from TBBase import TBBase\n",
    "from ConstrainedRandom import ConstrainedRandom\n",
    "from APB import APBMonitor, APBSlave, APBBase, APBCommandPacket"
   ]
  },
  {
   "cell_type": "code",
   "execution_count": 2,
   "metadata": {},
   "outputs": [],
   "source": [
    "# Constrained random settings for command generation\n",
    "DATA_WIDTH = 32\n",
    "ADDR_WIDTH=32\n",
    "STRB_WIDTH = 4\n",
    "registers = 32 * STRB_WIDTH\n",
    "clog2_registers = math.ceil(math.log2(registers))\n",
    "pwrite_constraints = [(0, 0), (1, 1)]\n",
    "pwrite_weights     = [1, 1]\n",
    "min_high = (4  * STRB_WIDTH)-1\n",
    "max_low  = (4  * STRB_WIDTH)\n",
    "max_high = (32 * STRB_WIDTH)-1\n",
    "paddr_constraints  = [(0, min_high), (max_low, max_high)]\n",
    "paddr_weights      = [3, 1]\n",
    "pprot_constraints  = [(0, 0), (1, 7)]\n",
    "pprot_weights      = [4, 1]"
   ]
  },
  {
   "cell_type": "code",
   "execution_count": 3,
   "metadata": {},
   "outputs": [],
   "source": [
    "cmd_packet = APBCommandPacket(\n",
    "    data_width         = DATA_WIDTH,\n",
    "    addr_width         = ADDR_WIDTH,\n",
    "    strb_width         = STRB_WIDTH,\n",
    "    pwrite_constraints = pwrite_constraints,\n",
    "    pwrite_weights     = pwrite_weights,\n",
    "    paddr_constraints  = paddr_constraints,\n",
    "    paddr_weights      = paddr_weights,\n",
    "    pprot_constraints  = pprot_constraints,\n",
    "    pprot_weights      = pprot_weights\n",
    ")"
   ]
  },
  {
   "cell_type": "code",
   "execution_count": null,
   "metadata": {},
   "outputs": [],
   "source": []
  },
  {
   "cell_type": "code",
   "execution_count": null,
   "metadata": {},
   "outputs": [],
   "source": []
  },
  {
   "cell_type": "code",
   "execution_count": null,
   "metadata": {},
   "outputs": [],
   "source": []
  },
  {
   "cell_type": "code",
   "execution_count": null,
   "metadata": {},
   "outputs": [],
   "source": []
  }
 ],
 "metadata": {
  "kernelspec": {
   "display_name": ".venv",
   "language": "python",
   "name": "python3"
  },
  "language_info": {
   "codemirror_mode": {
    "name": "ipython",
    "version": 3
   },
   "file_extension": ".py",
   "mimetype": "text/x-python",
   "name": "python",
   "nbconvert_exporter": "python",
   "pygments_lexer": "ipython3",
   "version": "3.10.12"
  }
 },
 "nbformat": 4,
 "nbformat_minor": 2
}
