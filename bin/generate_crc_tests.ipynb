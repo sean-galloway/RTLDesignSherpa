{
 "cells": [
  {
   "cell_type": "code",
   "execution_count": 31,
   "metadata": {},
   "outputs": [],
   "source": [
    "import os\n",
    "import subprocess\n",
    "from pathlib import Path\n",
    "import shutil"
   ]
  },
  {
   "cell_type": "code",
   "execution_count": 32,
   "metadata": {},
   "outputs": [],
   "source": [
    "crc_parameters = [\n",
    "(\"CRC-08\", \"8\", \"8'h07\", \"8'h00\", \"0\", \"0\", \"8'h00\"), \n",
    "(\"CRC-08_CDMA2000\", \"8\", \"8'h9B\", \"8'hFF\", \"0\", \"0\", \"8'h00\"), \n",
    "(\"CRC-08_DARC\", \"8\", \"8'h39\", \"8'h00\", \"1\", \"1\", \"8'h00\"), \n",
    "(\"CRC-08_DVB-S2\", \"8\", \"8'hD5\", \"8'h00\", \"0\", \"0\", \"8'h00\"), \n",
    "(\"CRC-08_EBU\", \"8\", \"8'h1D\", \"8'hFF\", \"1\", \"1\", \"8'h00\"), \n",
    "(\"CRC-08_I-CODE\", \"8\", \"8'h1D\", \"8'hFD\", \"0\", \"0\", \"8'h00\"), \n",
    "(\"CRC-08_ITU\", \"8\", \"8'h07\", \"8'h00\", \"0\", \"0\", \"8'h55\"), \n",
    "(\"CRC-08_MAXIM\", \"8\", \"8'h31\", \"8'h00\", \"1\", \"1\", \"8'h00\"), \n",
    "(\"CRC-08_ROHC\", \"8\", \"8'h07\", \"8'hFF\", \"1\", \"1\", \"8'h00\"), \n",
    "(\"CRC-08_WCDMA\", \"8\", \"8'h9B\", \"8'h00\", \"1\", \"1\", \"8'h00\"), \n",
    "(\"CRC-16_ARC\", \"16\", \"16'h8005\", \"16'h0000\", \"1\", \"1\", \"16'h0000\"), \n",
    "(\"CRC-16_AUG-CCITT\", \"16\", \"16'h1021\", \"16'h1D0F\", \"0\", \"0\", \"16'h0000\"), \n",
    "(\"CRC-16_BUYPASS\", \"16\", \"16'h8005\", \"16'h0000\", \"0\", \"0\", \"16'h0000\"), \n",
    "(\"CRC-16_CCITT-FALSE\", \"16\", \"16'h1021\", \"16'hFFFF\", \"0\", \"0\", \"16'h0000\"), \n",
    "(\"CRC-16_CDMA2000\", \"16\", \"16'hC867\", \"16'hFFFF\", \"0\", \"0\", \"16'h0000\"), \n",
    "(\"CRC-16_DDS-110\", \"16\", \"16'h8005\", \"16'h800D\", \"0\", \"0\", \"16'h0000\"), \n",
    "(\"CRC-16_DECT-R\", \"16\", \"16'h0589\", \"16'h0000\", \"0\", \"0\", \"16'h0001\"), \n",
    "(\"CRC-16_DECT-X\", \"16\", \"16'h0589\", \"16'h0000\", \"0\", \"0\", \"16'h0000\"), \n",
    "(\"CRC-16_DNP\", \"16\", \"16'h3D65\", \"16'h0000\", \"1\", \"1\", \"16'hFFFF\"), \n",
    "(\"CRC-16_EN-13757\", \"16\", \"16'h3D65\", \"16'h0000\", \"0\", \"0\", \"16'hFFFF\"), \n",
    "(\"CRC-16_GENIBUS\", \"16\", \"16'h1021\", \"16'hFFFF\", \"0\", \"0\", \"16'hFFFF\"), \n",
    "(\"CRC-16_KERMIT\", \"16\", \"16'h1021\", \"16'h0000\", \"1\", \"1\", \"16'h0000\"), \n",
    "(\"CRC-16_MAXIM\", \"16\", \"16'h8005\", \"16'h0000\", \"1\", \"1\", \"16'hFFFF\"), \n",
    "(\"CRC-16_MCRF4XX\", \"16\", \"16'h1021\", \"16'hFFFF\", \"1\", \"1\", \"16'h0000\"), \n",
    "(\"CRC-16_MODBUS\", \"16\", \"16'h8005\", \"16'hFFFF\", \"1\", \"1\", \"16'h0000\"), \n",
    "(\"CRC-16_RIELLO\", \"16\", \"16'h1021\", \"16'hB2AA\", \"1\", \"1\", \"16'h0000\"), \n",
    "(\"CRC-16_T10-DIF\", \"16\", \"16'h8BB7\", \"16'h0000\", \"0\", \"0\", \"16'h0000\"), \n",
    "(\"CRC-16_TELEDISK\", \"16\", \"16'hA097\", \"16'h0000\", \"0\", \"0\", \"16'h0000\"), \n",
    "(\"CRC-16_TMS37157\", \"16\", \"16'h1021\", \"16'h89EC\", \"1\", \"1\", \"16'h0000\"), \n",
    "(\"CRC-16_USB\", \"16\", \"16'h8005\", \"16'hFFFF\", \"1\", \"1\", \"16'hFFFF\"), \n",
    "(\"CRC-16_X-25\", \"16\", \"16'h1021\", \"16'hFFFF\", \"1\", \"1\", \"16'hFFFF\"), \n",
    "(\"CRC-16_XMODEM\", \"16\", \"16'h1021\", \"16'h0000\", \"0\", \"0\", \"16'h0000\"), \n",
    "(\"CRC-16A\", \"16\", \"16'h1021\", \"16'hC6C6\", \"1\", \"1\", \"16'h0000\"), \n",
    "(\"CRC-32\", \"32\", \"32'h04C11DB7\", \"32'hFFFFFFFF\", \"1\", \"1\", \"32'hFFFFFFFF\"), \n",
    "(\"CRC-32_BZIP2\", \"32\", \"32'h04C11DB7\", \"32'hFFFFFFFF\", \"0\", \"0\", \"32'hFFFFFFFF\"), \n",
    "(\"CRC-32_JAMCRC\", \"32\", \"32'h04C11DB7\", \"32'hFFFFFFFF\", \"1\", \"1\", \"32'h00000000\"), \n",
    "(\"CRC-32_MPEG-2\", \"32\", \"32'h04C11DB7\", \"32'hFFFFFFFF\", \"0\", \"0\", \"32'h00000000\"), \n",
    "(\"CRC-32_POSIX\", \"32\", \"32'h04C11DB7\", \"32'h00000000\", \"0\", \"0\", \"32'hFFFFFFFF\"), \n",
    "(\"CRC-32_SATA\", \"32\", \"32'h04C11DB7\", \"32'h52325032\", \"0\", \"0\", \"32'h00000000\"), \n",
    "(\"CRC-32_XFER\", \"32\", \"32'h000000AF\", \"32'h00000000\", \"0\", \"0\", \"32'h00000000\"), \n",
    "(\"CRC-32C\", \"32\", \"32'h1EDC6F41\", \"32'hFFFFFFFF\", \"1\", \"1\", \"32'hFFFFFFFF\"), \n",
    "(\"CRC-32D\", \"32\", \"32'hA833982B\", \"32'hFFFFFFFF\", \"1\", \"1\", \"32'hFFFFFFFF\"), \n",
    "(\"CRC-32Q\", \"32\", \"32'h814141AB\", \"32'h00000000\", \"0\", \"0\", \"32'h00000000\"),\n",
    "(\"CRC-32Q\", \"32\", \"32'h814141AB\", \"32'h00000000\", \"0\", \"0\", \"32'h00000000\"), \n",
    "(\"CRC-40_GSM\", \"40\", \"40'h4820009\", \"40'h000000000\", \"0\", \"0\", \"40'hFFFFFFFFFF\"), \n",
    "(\"CRC-64_ECMA-182\", \"64\", \"64'h42F0E1EBA9EA3693\", \"64'h00000000000000\", \"0\", \"0\", \"64'h00000000\"), \n",
    "(\"CRC-64_GO-ISO\", \"64\", \"64'h000000000000001B\", \"64'hFFFFFFFFFFFFFFFF\", \"1\", \"1\", \"64'hFFFFFFFFFFFFFFFF\"), \n",
    "(\"CRC-64_MS\", \"64\", \"64'h259C84CBA6426349\", \"64'hFFFFFFFFFFFFFFFF\", \"1\", \"1\", \"64'h00000000000000\"), \n",
    "(\"CRC-64_REDIS\", \"64\", \"64'hAD93D23594C935A9\", \"64'h00000000000000\", \"1\", \"1\", \"64'h00000000000000\"), \n",
    "(\"CRC-64_WE\", \"64\", \"64'h42F0E1EBA9EA3693\", \"64'hFFFFFFFFFFFFFFFF\", \"0\", \"0\", \"64'hFFFFFFFFFFFFFFFF\"), \n",
    "(\"CRC-64_XZ\", \"64\", \"64'h42F0E1EBA9EA3693\", \"64'hFFFFFFFFFFFFFFFF\", \"1\", \"1\", \"64'hFFFFFFFFFFFFFFFF\")\n",
    "]"
   ]
  },
  {
   "cell_type": "code",
   "execution_count": 33,
   "metadata": {},
   "outputs": [],
   "source": [
    "repo_root = subprocess.check_output(['git', 'rev-parse', '--show-toplevel']).strip().decode('utf-8')\n",
    "output_path = f'{repo_root}/val/common_level0_CRC'\n",
    "template_path = f'{repo_root}/bin/CRC_Templates'\n",
    "data_width = [ 8, 16, 32, 40, 64 ]\n",
    "makefile_list = []\n",
    "makefile_path = f'{template_path}/Makefile'\n",
    "with open(makefile_path, 'r') as file:\n",
    "    makefile_list = file.readlines()\n"
   ]
  },
  {
   "cell_type": "code",
   "execution_count": 34,
   "metadata": {},
   "outputs": [],
   "source": [
    "# Function to replace tags in a line with their corresponding replacements\n",
    "def replace_tags(line, replacements):\n",
    "    for tag, replacement in replacements.items():\n",
    "        line = line.replace(tag, replacement)\n",
    "    return line"
   ]
  },
  {
   "cell_type": "code",
   "execution_count": 35,
   "metadata": {},
   "outputs": [],
   "source": [
    "for dw in data_width:\n",
    "    for crc_param in crc_parameters:\n",
    "        (algorithm, crc_width, poly, poly_init, refin, refout, xorout) = crc_param\n",
    "        test_path = Path(f'{output_path}/{algorithm}_data_{str(dw).zfill(3)}')\n",
    "        test_path.mkdir(parents=True, exist_ok=True)\n",
    "        replacements = {\n",
    "            '<data_width>' : str(dw),\n",
    "            '<crc_width>'  : str(crc_width),\n",
    "            '<poly>'       : f'\"{poly}\"',\n",
    "            '<poly_init>'  : f'\"{poly_init}\"',\n",
    "            '<reflect_in>' : str(refin),\n",
    "            '<reflect_out>': str(refout),\n",
    "            '<xor_out>'    : f'\"{xorout}\"'\n",
    "        }\n",
    "        modified_makefile = [replace_tags(line, replacements) for line in makefile_list]\n",
    "        makefile_path = os.path.join(test_path, 'Makefile')\n",
    "        with open(makefile_path, 'w') as file:\n",
    "            for line in modified_makefile:\n",
    "                file.write(line)\n",
    "        tb_name = 'testbench.py'\n",
    "        tb_source_path = os.path.join(template_path, tb_name)\n",
    "        tb_dest_path = os.path.join(test_path, 'testbench.py')\n",
    "        # print(f'{tb_source_path=} \\n{tb_dest_path=}')\n",
    "        # print('-----------------------------------------------------------')\n",
    "        shutil.copy(tb_source_path, tb_dest_path)\n"
   ]
  },
  {
   "cell_type": "code",
   "execution_count": null,
   "metadata": {},
   "outputs": [],
   "source": []
  },
  {
   "cell_type": "code",
   "execution_count": null,
   "metadata": {},
   "outputs": [],
   "source": []
  }
 ],
 "metadata": {
  "kernelspec": {
   "display_name": ".venv",
   "language": "python",
   "name": "python3"
  },
  "language_info": {
   "codemirror_mode": {
    "name": "ipython",
    "version": 3
   },
   "file_extension": ".py",
   "mimetype": "text/x-python",
   "name": "python",
   "nbconvert_exporter": "python",
   "pygments_lexer": "ipython3",
   "version": "3.10.12"
  }
 },
 "nbformat": 4,
 "nbformat_minor": 2
}
