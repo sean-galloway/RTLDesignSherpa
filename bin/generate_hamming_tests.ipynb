{
 "cells": [
  {
   "cell_type": "code",
   "execution_count": 11,
   "metadata": {},
   "outputs": [],
   "source": [
    "import os\n",
    "import subprocess\n",
    "import shutil\n",
    "import json"
   ]
  },
  {
   "cell_type": "code",
   "execution_count": 12,
   "metadata": {},
   "outputs": [],
   "source": [
    "repo_root = subprocess.check_output(['git', 'rev-parse', '--show-toplevel']).strip().decode('utf-8')\n",
    "output_file = f'{repo_root}/val/testlists/level0_Hamming.json'\n",
    "data_width = [ 7, 8, 15, 16, 31, 32, 63, 64 ]\n",
    "level0_Hamming = []\n",
    "sample_path_encode = 'val/common_level0/dataint_ecc_hamming_encode_secded/'\n",
    "sample_path_decode = 'val/common_level0/dataint_ecc_hamming_decode_secded/'\n"
   ]
  },
  {
   "cell_type": "code",
   "execution_count": 13,
   "metadata": {},
   "outputs": [],
   "source": [
    "# Function to replace tags in a line with their corresponding replacements\n",
    "def replace_tags(line, replacements):\n",
    "    for tag, replacement in replacements.items():\n",
    "        line = line.replace(tag, replacement)\n",
    "    return line"
   ]
  },
  {
   "cell_type": "code",
   "execution_count": 14,
   "metadata": {},
   "outputs": [],
   "source": [
    "algorithm_encode = 'dataint_ecc_hamming_encode_secded'\n",
    "algorithm_decode = 'dataint_ecc_hamming_decode_secded'\n",
    "for dw in data_width:\n",
    "    test_dict = { \"test\": sample_path_encode, \"test_name\": f'{algorithm_encode}_dw_{str(dw).zfill(3)}', \"seed\": \"1234\"}\n",
    "    param_dict = {'WIDTH' :str(dw)}\n",
    "    test_dict['param'] = param_dict\n",
    "    level0_Hamming.append(test_dict)\n",
    "    test_dict = { \"test\": sample_path_decode, \"test_name\": f'{algorithm_decode}_dw_{str(dw).zfill(3)}', \"seed\": \"1234\"}\n",
    "    param_dict = {'WIDTH' :str(dw)}\n",
    "    test_dict['param'] = param_dict\n",
    "    level0_Hamming.append(test_dict)\n"
   ]
  },
  {
   "cell_type": "code",
   "execution_count": 15,
   "metadata": {},
   "outputs": [],
   "source": [
    "# Write the dictionary to a file in JSON format\n",
    "with open(output_file, 'w') as f:\n",
    "    json.dump(level0_Hamming, f, indent=4)"
   ]
  },
  {
   "cell_type": "code",
   "execution_count": null,
   "metadata": {},
   "outputs": [],
   "source": []
  }
 ],
 "metadata": {
  "kernelspec": {
   "display_name": ".venv",
   "language": "python",
   "name": "python3"
  },
  "language_info": {
   "codemirror_mode": {
    "name": "ipython",
    "version": 3
   },
   "file_extension": ".py",
   "mimetype": "text/x-python",
   "name": "python",
   "nbconvert_exporter": "python",
   "pygments_lexer": "ipython3",
   "version": "3.10.12"
  }
 },
 "nbformat": 4,
 "nbformat_minor": 2
}
