{
 "cells": [
  {
   "cell_type": "code",
   "execution_count": 127,
   "metadata": {},
   "outputs": [],
   "source": [
    "import os\n",
    "import glob\n",
    "import os\n",
    "import re\n",
    "import subprocess"
   ]
  },
  {
   "cell_type": "code",
   "execution_count": 128,
   "metadata": {},
   "outputs": [],
   "source": [
    "# Function to list files in a directory using glob\n",
    "def list_files_glob(directory, pattern):\n",
    "    return glob.glob(os.path.join(directory, pattern), recursive=True)"
   ]
  },
  {
   "cell_type": "code",
   "execution_count": 129,
   "metadata": {},
   "outputs": [],
   "source": [
    "# Function to parse index.md and extract referenced Markdown files\n",
    "def parse_index_md(index_path):\n",
    "    with open(index_path, 'r') as index_file:\n",
    "        index_content = index_file.read()\n",
    "    # Regex to find Markdown links (assuming format [name](path))\n",
    "    referenced_files = re.findall(r'\\(([^)]+\\.md)\\)', index_content)\n",
    "    return [os.path.basename(path) for path in referenced_files]"
   ]
  },
  {
   "cell_type": "code",
   "execution_count": 130,
   "metadata": {},
   "outputs": [],
   "source": [
    "# Define paths\n",
    "repo_root = subprocess.check_output(['git', 'rev-parse', '--show-toplevel']).strip().decode('utf-8')\n",
    "markdown_dir = f\"{repo_root}/docs/mark_down/rtl\"\n",
    "rtl_dir = f\"{repo_root}/rtl/common\"\n",
    "index_md_path = os.path.join(markdown_dir, \"index.md\")"
   ]
  },
  {
   "cell_type": "code",
   "execution_count": 131,
   "metadata": {},
   "outputs": [],
   "source": [
    "# Extract filenames for comparison, excluding \"index.md\"\n",
    "markdown_files = list_files_glob(markdown_dir, \"**/*.md\")\n",
    "markdown_filenames = [os.path.basename(path) for path in markdown_files if \"index.md\" not in path and \"README.md\" not in path]\n",
    "\n",
    "# List RTL files using glob\n",
    "rtl_files = list_files_glob(rtl_dir, \"**/*.sv\")\n",
    "rtl_filenames = [os.path.basename(path) for path in rtl_files]"
   ]
  },
  {
   "cell_type": "code",
   "execution_count": 132,
   "metadata": {},
   "outputs": [],
   "source": [
    "# Parse index.md\n",
    "referenced_markdown_filenames = parse_index_md(index_md_path)"
   ]
  },
  {
   "cell_type": "code",
   "execution_count": 133,
   "metadata": {},
   "outputs": [],
   "source": [
    "# Check for missing Markdown files\n",
    "missing_markdown_files = sorted([file for file in markdown_filenames if file not in referenced_markdown_filenames])"
   ]
  },
  {
   "cell_type": "code",
   "execution_count": 134,
   "metadata": {},
   "outputs": [],
   "source": [
    "# Check for missing RTL files (comparing root names)\n",
    "referenced_rtl_roots = [os.path.splitext(name)[0] for name in referenced_markdown_filenames]\n",
    "\n",
    "# Correct extraction of root names for comparison\n",
    "referenced_rtl_roots = [os.path.splitext(os.path.basename(name))[0] for name in referenced_markdown_filenames]\n",
    "rtl_file_roots = [os.path.splitext(os.path.basename(file))[0] for file in rtl_files]\n",
    "\n",
    "# print(f'{referenced_rtl_roots=}')\n",
    "# print(f'{rtl_file_roots=}')\n",
    "# Check for missing RTL files based on root names\n",
    "missing_rtl_files = sorted([f\"{file}.sv\" for file in rtl_file_roots if file not in referenced_rtl_roots])\n"
   ]
  },
  {
   "cell_type": "code",
   "execution_count": 135,
   "metadata": {},
   "outputs": [
    {
     "name": "stdout",
     "output_type": "stream",
     "text": [
      "Missing Markdown Files: ['STYLE_GUIDE.md']\n",
      "    STYLE_GUIDE.md\n",
      "Missing RTL Files (based on Markdown root names):\n",
      "    dataint_ecc_hamming_decode_032.sv\n",
      "    dataint_ecc_hamming_encode_032.sv\n",
      "    math_adder_brent_kung_016.sv\n",
      "    math_adder_brent_kung_032.sv\n",
      "    math_adder_brent_kung_grouppg_016.sv\n",
      "    math_adder_brent_kung_grouppg_032.sv\n",
      "    math_multiplier_dadda_tree_016.sv\n",
      "    math_multiplier_dadda_tree_032.sv\n",
      "    math_multiplier_wallace_tree_016.sv\n",
      "    math_multiplier_wallace_tree_032.sv\n",
      "    math_multiplier_wallace_tree_csa_016.sv\n",
      "    math_multiplier_wallace_tree_csa_032.sv\n"
     ]
    }
   ],
   "source": [
    "# Print missing files\n",
    "print(\"Missing Markdown Files:\", missing_markdown_files)\n",
    "for file in missing_markdown_files:\n",
    "    print(f'    {file}')\n",
    "print(\"Missing RTL Files (based on Markdown root names):\")\n",
    "for file in missing_rtl_files:\n",
    "    print(f'    {file}')"
   ]
  }
 ],
 "metadata": {
  "kernelspec": {
   "display_name": ".venv",
   "language": "python",
   "name": "python3"
  },
  "language_info": {
   "codemirror_mode": {
    "name": "ipython",
    "version": 3
   },
   "file_extension": ".py",
   "mimetype": "text/x-python",
   "name": "python",
   "nbconvert_exporter": "python",
   "pygments_lexer": "ipython3",
   "version": "3.10.12"
  }
 },
 "nbformat": 4,
 "nbformat_minor": 2
}
