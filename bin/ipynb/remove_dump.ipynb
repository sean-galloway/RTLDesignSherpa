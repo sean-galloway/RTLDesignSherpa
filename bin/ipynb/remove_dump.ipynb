{
 "cells": [
  {
   "cell_type": "code",
   "execution_count": 7,
   "metadata": {},
   "outputs": [],
   "source": [
    "import os\n",
    "import re\n",
    "import subprocess"
   ]
  },
  {
   "cell_type": "code",
   "execution_count": 8,
   "metadata": {},
   "outputs": [],
   "source": [
    "repo_root = subprocess.check_output(['git', 'rev-parse', '--show-toplevel']).strip().decode('utf-8')\n",
    "rtl_dir = os.path.join(repo_root, 'rtl', 'common')"
   ]
  },
  {
   "cell_type": "code",
   "execution_count": 9,
   "metadata": {},
   "outputs": [],
   "source": [
    "# Regular expression to match the lines to be removed.\n",
    "pattern_to_remove = re.compile(\n",
    "    r\"\\s*initial\\s+begin\\s*\\$dumpfile\\(\\\"waves\\.vcd\\\"\\);\\s*\\$dumpvars\\(0, .*\\);\\s*end\", re.MULTILINE)\n",
    "pattern_to_remove = re.compile(r\"\\s*\\/\\/\\s*synopsys translate_off\\s*\\/\\/\\s*synopsys translate_on.*\", re.MULTILINE)"
   ]
  },
  {
   "cell_type": "code",
   "execution_count": 10,
   "metadata": {},
   "outputs": [],
   "source": [
    "# Iterate over the files in the directory.\n",
    "for filename in os.listdir(rtl_dir):\n",
    "    if filename.endswith('.v') or filename.endswith('.sv'):\n",
    "        filepath = os.path.join(rtl_dir, filename)\n",
    "        with open(filepath, 'r+') as file:\n",
    "            content = file.read()\n",
    "            # Check if the pattern is found and replace it with an empty string.\n",
    "            updated_content = re.sub(pattern_to_remove, '', content)\n",
    "            # Write the updated content back to the file only if changes were made.\n",
    "            if content != updated_content:\n",
    "                file.seek(0)\n",
    "                file.write(updated_content)\n",
    "                file.truncate()"
   ]
  }
 ],
 "metadata": {
  "kernelspec": {
   "display_name": ".venv",
   "language": "python",
   "name": "python3"
  },
  "language_info": {
   "codemirror_mode": {
    "name": "ipython",
    "version": 3
   },
   "file_extension": ".py",
   "mimetype": "text/x-python",
   "name": "python",
   "nbconvert_exporter": "python",
   "pygments_lexer": "ipython3",
   "version": "3.10.12"
  }
 },
 "nbformat": 4,
 "nbformat_minor": 2
}
