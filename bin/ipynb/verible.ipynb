{
 "cells": [
  {
   "cell_type": "code",
   "execution_count": 1,
   "metadata": {},
   "outputs": [],
   "source": [
    "import json\n"
   ]
  },
  {
   "cell_type": "code",
   "execution_count": 2,
   "metadata": {},
   "outputs": [],
   "source": [
    "def find_ports(ast_node, inputs, outputs, inouts):\n",
    "    if isinstance(ast_node, dict):\n",
    "        if ast_node.get('tag') == 'kPortDeclaration':\n",
    "            port_type = ast_node['children'][0]['tag']\n",
    "            for port in ast_node['children'][1:]:\n",
    "                if port_type == 'kInputDeclaration':\n",
    "                    inputs.append(port['children'][0]['text'])\n",
    "                elif port_type == 'kOutputDeclaration':\n",
    "                    outputs.append(port['children'][0]['text'])\n",
    "                elif port_type == 'kInOutDeclaration':\n",
    "                    inouts.append(port['children'][0]['text'])\n",
    "        for key, value in ast_node.items():\n",
    "            find_ports(value, inputs, outputs, inouts)\n",
    "    elif isinstance(ast_node, list):\n",
    "        for item in ast_node:\n",
    "            find_ports(item, inputs, outputs, inouts)\n"
   ]
  },
  {
   "cell_type": "code",
   "execution_count": 3,
   "metadata": {},
   "outputs": [],
   "source": [
    "def find_instances(ast_node, instances):\n",
    "    if isinstance(ast_node, dict):\n",
    "        if ast_node.get('tag') == 'kDataDeclaration':\n",
    "            for child in ast_node.get('children', []):\n",
    "                if 'kModuleInstance' in child.get('tag', ''):\n",
    "                    instance_name = child['children'][1]['children'][0]['text']\n",
    "                    instances.append(instance_name)\n",
    "        for key, value in ast_node.items():\n",
    "            find_instances(value, instances)\n",
    "    elif isinstance(ast_node, list):\n",
    "        for item in ast_node:\n",
    "            find_instances(item, instances)\n"
   ]
  },
  {
   "cell_type": "code",
   "execution_count": 4,
   "metadata": {},
   "outputs": [],
   "source": [
    "def find_flops_and_combi_signals(ast_node, flops, combi_signals):\n",
    "    if isinstance(ast_node, dict):\n",
    "        tag = ast_node.get('tag')\n",
    "        if tag == 'kVariableDeclarationAssignment':\n",
    "            for child in ast_node.get('children', []):\n",
    "                if child.get('tag') == 'kRegisterVariable':\n",
    "                    for signal in child.get('children', []):\n",
    "                        if signal.get('tag') == 'Symbol' and signal.get('text').startswith('r_'):\n",
    "                            flops.append(signal.get('text'))\n",
    "                if child.get('tag') == 'kLogicVariable':\n",
    "                    for signal in child.get('children', []):\n",
    "                        if signal.get('tag') == 'Symbol' and signal.get('text').startswith('w_'):\n",
    "                            combi_signals.append(signal.get('text'))\n",
    "        for key, value in ast_node.items():\n",
    "            find_flops_and_combi_signals(value, flops, combi_signals)\n",
    "    elif isinstance(ast_node, list):\n",
    "        for item in ast_node:\n",
    "            find_flops_and_combi_signals(item, flops, combi_signals)\n"
   ]
  },
  {
   "cell_type": "code",
   "execution_count": 6,
   "metadata": {},
   "outputs": [
    {
     "name": "stdout",
     "output_type": "stream",
     "text": [
      "{'math_adder_half.sv': {'tree': {'children': [{'children': [{'end': 10, 'start': 0, 'tag': '`timescale'}, {'children': [{'end': 14, 'start': 11, 'tag': 'TK_TimeLiteral', 'text': '1ns'}], 'tag': 'kTimeLiteral'}, {'end': 16, 'start': 15, 'tag': '/'}, {'children': [{'end': 20, 'start': 17, 'tag': 'TK_TimeLiteral', 'text': '1ps'}], 'tag': 'kTimeLiteral'}], 'tag': 'kTimescaleDirective'}, {'children': [{'children': [{'end': 28, 'start': 22, 'tag': 'module'}, None, {'end': 44, 'start': 29, 'tag': 'SymbolIdentifier', 'text': 'math_adder_half'}, None, None, {'children': [{'end': 46, 'start': 45, 'tag': '('}, {'children': [{'children': [{'end': 56, 'start': 51, 'tag': 'input'}, None, {'children': [None, None, None, None], 'tag': 'kDataType'}, {'children': [{'end': 61, 'start': 58, 'tag': 'SymbolIdentifier', 'text': 'i_a'}, None], 'tag': 'kUnqualifiedId'}, {'children': [None], 'tag': 'kUnpackedDimensions'}, None], 'tag': 'kPortDeclaration'}, {'end': 62, 'start': 61, 'tag': ','}, {'children': [{'children': [{'children': [{'end': 70, 'start': 67, 'tag': 'SymbolIdentifier', 'text': 'i_b'}, None], 'tag': 'kUnqualifiedId'}, None], 'tag': 'kPortReference'}, None], 'tag': 'kPort'}, {'end': 71, 'start': 70, 'tag': ','}, {'children': [{'end': 82, 'start': 76, 'tag': 'output'}, None, {'children': [None, None, None, None], 'tag': 'kDataType'}, {'children': [{'end': 89, 'start': 83, 'tag': 'SymbolIdentifier', 'text': 'ow_sum'}, None], 'tag': 'kUnqualifiedId'}, {'children': [None], 'tag': 'kUnpackedDimensions'}, None], 'tag': 'kPortDeclaration'}, {'end': 90, 'start': 89, 'tag': ','}, {'children': [{'children': [{'children': [{'end': 103, 'start': 95, 'tag': 'SymbolIdentifier', 'text': 'ow_carry'}, None], 'tag': 'kUnqualifiedId'}, None], 'tag': 'kPortReference'}, None], 'tag': 'kPort'}], 'tag': 'kPortDeclarationList'}, {'end': 105, 'start': 104, 'tag': ')'}], 'tag': 'kParenGroup'}, None, {'end': 106, 'start': 105, 'tag': ';'}], 'tag': 'kModuleHeader'}, {'children': [{'children': [{'end': 118, 'start': 112, 'tag': 'assign'}, None, None, {'children': [{'children': [{'children': [{'children': [{'children': [{'children': [{'end': 125, 'start': 119, 'tag': 'SymbolIdentifier', 'text': 'ow_sum'}, None], 'tag': 'kUnqualifiedId'}], 'tag': 'kLocalRoot'}], 'tag': 'kReference'}], 'tag': 'kLPValue'}, {'end': 129, 'start': 128, 'tag': '='}, {'children': [{'children': [{'children': [{'children': [{'children': [{'children': [{'end': 133, 'start': 130, 'tag': 'SymbolIdentifier', 'text': 'i_a'}, None], 'tag': 'kUnqualifiedId'}], 'tag': 'kLocalRoot'}], 'tag': 'kReference'}], 'tag': 'kFunctionCall'}, {'end': 135, 'start': 134, 'tag': '^'}, {'children': [{'children': [{'children': [{'children': [{'end': 139, 'start': 136, 'tag': 'SymbolIdentifier', 'text': 'i_b'}, None], 'tag': 'kUnqualifiedId'}], 'tag': 'kLocalRoot'}], 'tag': 'kReference'}], 'tag': 'kFunctionCall'}], 'tag': 'kBinaryExpression'}], 'tag': 'kExpression'}], 'tag': 'kNetVariableAssignment'}], 'tag': 'kAssignmentList'}, {'end': 140, 'start': 139, 'tag': ';'}], 'tag': 'kContinuousAssignmentStatement'}, {'children': [{'end': 151, 'start': 145, 'tag': 'assign'}, None, None, {'children': [{'children': [{'children': [{'children': [{'children': [{'children': [{'end': 160, 'start': 152, 'tag': 'SymbolIdentifier', 'text': 'ow_carry'}, None], 'tag': 'kUnqualifiedId'}], 'tag': 'kLocalRoot'}], 'tag': 'kReference'}], 'tag': 'kLPValue'}, {'end': 162, 'start': 161, 'tag': '='}, {'children': [{'children': [{'children': [{'children': [{'children': [{'children': [{'end': 166, 'start': 163, 'tag': 'SymbolIdentifier', 'text': 'i_a'}, None], 'tag': 'kUnqualifiedId'}], 'tag': 'kLocalRoot'}], 'tag': 'kReference'}], 'tag': 'kFunctionCall'}, {'end': 168, 'start': 167, 'tag': '&'}, {'children': [{'children': [{'children': [{'children': [{'end': 172, 'start': 169, 'tag': 'SymbolIdentifier', 'text': 'i_b'}, None], 'tag': 'kUnqualifiedId'}], 'tag': 'kLocalRoot'}], 'tag': 'kReference'}], 'tag': 'kFunctionCall'}], 'tag': 'kBinaryExpression'}], 'tag': 'kExpression'}], 'tag': 'kNetVariableAssignment'}], 'tag': 'kAssignmentList'}, {'end': 173, 'start': 172, 'tag': ';'}], 'tag': 'kContinuousAssignmentStatement'}], 'tag': 'kModuleItemList'}, {'end': 184, 'start': 175, 'tag': 'endmodule'}, {'children': [{'end': 186, 'start': 185, 'tag': ':'}, {'end': 202, 'start': 187, 'tag': 'SymbolIdentifier', 'text': 'math_adder_half'}], 'tag': 'kLabel'}], 'tag': 'kModuleDeclaration'}], 'tag': 'kDescriptionList'}}}\n",
      "Inputs: []\n",
      "Outputs: []\n",
      "Inouts: []\n",
      "Instances: []\n",
      "Flops: []\n",
      "Combinatorial Signals: []\n"
     ]
    }
   ],
   "source": [
    "# Read the AST from the JSON file\n",
    "with open(\"math_adder_half.sv.ast.json\", \"r\") as file:\n",
    "    ast = json.load(file)\n",
    "print(ast)\n",
    "# Initialize lists\n",
    "inputs = []\n",
    "outputs = []\n",
    "inouts = []\n",
    "instances = []\n",
    "flops = []\n",
    "combi_signals = []\n",
    "\n",
    "# Find ports, instances, flops, and combinatorial signals\n",
    "find_ports(ast, inputs, outputs, inouts)\n",
    "find_instances(ast, instances)\n",
    "find_flops_and_combi_signals(ast, flops, combi_signals)\n",
    "\n",
    "# Print results\n",
    "print(\"Inputs:\", inputs)\n",
    "print(\"Outputs:\", outputs)\n",
    "print(\"Inouts:\", inouts)\n",
    "print(\"Instances:\", instances)\n",
    "print(\"Flops:\", flops)\n",
    "print(\"Combinatorial Signals:\", combi_signals)\n"
   ]
  },
  {
   "cell_type": "code",
   "execution_count": null,
   "metadata": {},
   "outputs": [],
   "source": []
  }
 ],
 "metadata": {
  "kernelspec": {
   "display_name": ".venv",
   "language": "python",
   "name": "python3"
  },
  "language_info": {
   "codemirror_mode": {
    "name": "ipython",
    "version": 3
   },
   "file_extension": ".py",
   "mimetype": "text/x-python",
   "name": "python",
   "nbconvert_exporter": "python",
   "pygments_lexer": "ipython3",
   "version": "3.10.12"
  }
 },
 "nbformat": 4,
 "nbformat_minor": 2
}
