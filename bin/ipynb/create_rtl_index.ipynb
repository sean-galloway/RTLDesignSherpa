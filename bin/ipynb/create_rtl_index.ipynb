{
 "cells": [
  {
   "cell_type": "code",
   "execution_count": 1,
   "metadata": {},
   "outputs": [],
   "source": [
    "import os"
   ]
  },
  {
   "cell_type": "code",
   "execution_count": 2,
   "metadata": {},
   "outputs": [],
   "source": [
    "def extract_content(file_path):\n",
    "    with open(file_path, 'r') as file:\n",
    "        lines = file.readlines()\n",
    "\n",
    "    # Assuming the first line is the title\n",
    "    title = lines[0].strip().replace('# ', '').replace('.sh', '')\n",
    "\n",
    "    # Extracting the block of text from the second line until the first blank line\n",
    "    text_block_lines = []\n",
    "    for line in lines[2:]:\n",
    "        if line.strip() == '':  # Check if the line is blank\n",
    "            break\n",
    "        text_block_lines.append(line.strip())\n",
    "\n",
    "    text_block = '\\n'.join(text_block_lines)\n",
    "\n",
    "    return title, text_block\n"
   ]
  },
  {
   "cell_type": "code",
   "execution_count": 3,
   "metadata": {},
   "outputs": [],
   "source": [
    "def generate_index_md(directory):\n",
    "    index_content = \"\"\n",
    "\n",
    "    for file in os.listdir(directory):\n",
    "        if file.endswith(\".md\"):\n",
    "            if 'index' in file:\n",
    "                continue\n",
    "            title, text_block = extract_content(os.path.join(directory, file))\n",
    "            # Formatting the markdown content\n",
    "            index_content += f\"- [{title}]({title}.md)\\n{text_block}\\n\\n\"\n",
    "\n",
    "    # Writing to index.md\n",
    "    with open(os.path.join(directory, \"index.md\"), 'w') as index_file:\n",
    "        index_file.write(index_content)"
   ]
  },
  {
   "cell_type": "code",
   "execution_count": 4,
   "metadata": {},
   "outputs": [],
   "source": [
    "generate_index_md('/home/sean/github/RTLDesignSherpa/docs/mark_down/rtl/')"
   ]
  },
  {
   "cell_type": "code",
   "execution_count": null,
   "metadata": {},
   "outputs": [],
   "source": []
  },
  {
   "cell_type": "code",
   "execution_count": null,
   "metadata": {},
   "outputs": [],
   "source": []
  },
  {
   "cell_type": "code",
   "execution_count": null,
   "metadata": {},
   "outputs": [],
   "source": []
  }
 ],
 "metadata": {
  "kernelspec": {
   "display_name": ".venv",
   "language": "python",
   "name": "python3"
  },
  "language_info": {
   "codemirror_mode": {
    "name": "ipython",
    "version": 3
   },
   "file_extension": ".py",
   "mimetype": "text/x-python",
   "name": "python",
   "nbconvert_exporter": "python",
   "pygments_lexer": "ipython3",
   "version": "3.10.12"
  }
 },
 "nbformat": 4,
 "nbformat_minor": 2
}
