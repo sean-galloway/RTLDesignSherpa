{
 "cells": [
  {
   "cell_type": "code",
   "execution_count": 1,
   "metadata": {},
   "outputs": [
    {
     "name": "stdout",
     "output_type": "stream",
     "text": [
      "Testbench files updated.\n"
     ]
    }
   ],
   "source": [
    "import os\n",
    "import re\n",
    "import subprocess\n",
    "\n",
    "def update_testbench_content(content, unit_name):\n",
    "    # Define the content to be added\n",
    "    additional_content = f'''\n",
    "from cocotb_test.simulator import run\n",
    "import logging\n",
    "import pytest\n",
    "log = logging.getLogger('cocotb_log_{unit_name}')\n",
    "log.setLevel(logging.DEBUG)\n",
    "'''\n",
    "\n",
    "    # Find the last import line index\n",
    "    last_import_index = None\n",
    "    for i, line in enumerate(content):\n",
    "        if 'import' in line or 'from' in line:\n",
    "            last_import_index = i\n",
    "\n",
    "    # Insert the additional content after the last import\n",
    "    if last_import_index is not None:\n",
    "        content.insert(last_import_index + 1, additional_content)\n",
    "\n",
    "    # Replace print statements with log.info\n",
    "    content = [re.sub(r'print\\((.*?)\\)', r'log.info(\\1)', line) for line in content]\n",
    "\n",
    "    return content\n",
    "\n",
    "# Get the repository root directory\n",
    "repo_root = subprocess.check_output(['git', 'rev-parse', '--show-toplevel']).strip().decode('utf-8')\n",
    "\n",
    "# Define the path to your testbench files\n",
    "testbench_dir = os.path.join(repo_root, 'val/common_level0')\n",
    "\n",
    "# Iterate over each unit's testbench.py file\n",
    "for unit in os.listdir(testbench_dir):\n",
    "    unit_path = os.path.join(testbench_dir, unit)\n",
    "    testbench_file_path = os.path.join(unit_path, 'testbench.py')\n",
    "    \n",
    "    # Only proceed if the testbench.py file exists\n",
    "    if os.path.isfile(testbench_file_path):\n",
    "        # Read the testbench file content\n",
    "        with open(testbench_file_path, 'r') as file:\n",
    "            content = file.readlines()\n",
    "\n",
    "        # Update the content\n",
    "        updated_content = update_testbench_content(content, unit)\n",
    "\n",
    "        # Write the updated content back to the file\n",
    "        with open(testbench_file_path, 'w') as file:\n",
    "            file.writelines(updated_content)\n",
    "\n",
    "print(\"Testbench files updated.\")\n"
   ]
  }
 ],
 "metadata": {
  "kernelspec": {
   "display_name": ".venv",
   "language": "python",
   "name": "python3"
  },
  "language_info": {
   "codemirror_mode": {
    "name": "ipython",
    "version": 3
   },
   "file_extension": ".py",
   "mimetype": "text/x-python",
   "name": "python",
   "nbconvert_exporter": "python",
   "pygments_lexer": "ipython3",
   "version": "3.10.12"
  }
 },
 "nbformat": 4,
 "nbformat_minor": 2
}
