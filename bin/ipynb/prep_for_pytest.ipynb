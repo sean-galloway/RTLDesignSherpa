{
 "cells": [
  {
   "cell_type": "code",
   "execution_count": 1,
   "metadata": {},
   "outputs": [],
   "source": [
    "import subprocess\n",
    "import os\n",
    "import subprocess\n",
    "import re\n",
    "\n",
    "def insert_logging_setup(repo_root):\n",
    "    testbench_dir = os.path.join(repo_root, \"val\", \"common_level0\")\n",
    "\n",
    "    for unit in os.listdir(testbench_dir):\n",
    "        testbench_path = os.path.join(testbench_dir, unit, \"testbench.py\")\n",
    "        if os.path.isfile(testbench_path):\n",
    "            with open(testbench_path, \"r\") as file:\n",
    "                lines = file.readlines()\n",
    "\n",
    "            # Find the last import/from within the first 20 lines\n",
    "            last_import_index = None\n",
    "            for i, line in enumerate(lines[:20]):\n",
    "                if line.startswith('import ') or line.startswith('from '):\n",
    "                    last_import_index = i\n",
    "\n",
    "            # Insert logging setup after the last import/from\n",
    "            if last_import_index is not None:\n",
    "                logging_setup = f\"\"\"\n",
    "import pytest\n",
    "from cocotb_test.simulator import run\n",
    "import logging\n",
    "log = logging.getLogger('cocotb_log_{unit}')\n",
    "log.setLevel(logging.DEBUG)\n",
    "# Create a file handler that logs even debug messages\n",
    "fh = logging.FileHandler('cocotb_log_{unit}.log')\n",
    "fh.setLevel(logging.DEBUG)\n",
    "# Create a formatter and add it to the handler\n",
    "formatter = logging.Formatter('%(asctime)s - %(name)s - %(levelname)s - %(message)s')\n",
    "fh.setFormatter(formatter)\n",
    "# Add the handler to the logger\n",
    "log.addHandler(fh)\n",
    "\n",
    "\"\"\"\n",
    "                # Insert the logging setup\n",
    "                lines.insert(last_import_index + 1, logging_setup)\n",
    "\n",
    "                # Replace all print statements with log.info\n",
    "                lines = [re.sub(r'^(\\s*)print\\((.*)\\)', r'\\1log.info(\\2)', line, flags=re.M) for line in lines]\n",
    "\n",
    "                # Write back the modified content\n",
    "                with open(testbench_path, \"w\") as file:\n",
    "                    file.writelines(lines)\n",
    "\n",
    "# Example usage\n",
    "repo_root = subprocess.check_output(['git', 'rev-parse', '--show-toplevel']).strip().decode('utf-8')\n",
    "insert_logging_setup(repo_root)\n"
   ]
  }
 ],
 "metadata": {
  "kernelspec": {
   "display_name": ".venv",
   "language": "python",
   "name": "python3"
  },
  "language_info": {
   "codemirror_mode": {
    "name": "ipython",
    "version": 3
   },
   "file_extension": ".py",
   "mimetype": "text/x-python",
   "name": "python",
   "nbconvert_exporter": "python",
   "pygments_lexer": "ipython3",
   "version": "3.10.12"
  }
 },
 "nbformat": 4,
 "nbformat_minor": 2
}
