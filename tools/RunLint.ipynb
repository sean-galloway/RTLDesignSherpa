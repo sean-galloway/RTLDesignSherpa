{
 "cells": [
  {
   "cell_type": "code",
   "execution_count": 4,
   "metadata": {},
   "outputs": [],
   "source": [
    "import os\n",
    "from os import listdir\n",
    "from os.path import isfile, join, exists\n",
    "import glob\n",
    "import subprocess\n"
   ]
  },
  {
   "cell_type": "code",
   "execution_count": 8,
   "metadata": {},
   "outputs": [],
   "source": [
    "###############################################################################\n",
    "# REMatcher is a utility class to make regex's work similar to Perl\n",
    "# NOTE: if there are any changes needed in this function contact Sean.\n",
    "###############################################################################\n",
    "class REMatcher(object):\n",
    "    ''' This is a utility function to help out with matching regex's and\n",
    "        grabbing the matches out in a way that is similar to how perl\n",
    "        does it.\n",
    "    '''\n",
    "    def __init__(self, matchstring: str) -> None:\n",
    "        self.matchstring = matchstring\n",
    "\n",
    "    def match(self, regexp: str) -> bool:\n",
    "        self.rematch = re.match(regexp, self.matchstring,\n",
    "                                re.IGNORECASE |\n",
    "                                re.MULTILINE |\n",
    "                                re.DOTALL\n",
    "                                )\n",
    "        return bool(self.rematch)\n",
    "\n",
    "    def group(self, i: int) -> str:\n",
    "        return \"Error 999\" if self.rematch is None else self.rematch.group(i)"
   ]
  },
  {
   "cell_type": "code",
   "execution_count": 6,
   "metadata": {},
   "outputs": [],
   "source": [
    "path_in = '/home/sean/github/RTL_Design_Projects/common/'\n",
    "path_rpt = '/home/sean/github/RTL_Design_Projects/reports/common/lint/'\n",
    "file_list = [f for f in listdir(path_in) if isfile(join(path_in, f))]"
   ]
  },
  {
   "cell_type": "code",
   "execution_count": 12,
   "metadata": {},
   "outputs": [
    {
     "name": "stdout",
     "output_type": "stream",
     "text": [
      "Working on array_multipler.sv\n",
      "Working on async_fifo.sv\n",
      "Working on barrel_shifter.sv\n",
      "Working on bin2gray.sv\n",
      "Working on bin_to_bcd.sv\n",
      "Working on booths_multiplier.sv\n",
      "Working on carry_lookahead_adder.sv\n",
      "Working on carry_lookahead_subtractor.sv\n",
      "Working on clock_divider.sv\n",
      "Working on clock_pulse.sv\n",
      "Working on count_leading_zeros.sv\n",
      "Working on debounce.sv\n",
      "Working on decoder.sv\n",
      "Working on encoder.sv\n",
      "Working on find_first_set.sv\n",
      "Command failed with exit code: 1\n",
      "Error message: /home/sean/github/RTL_Design_Projects/common/find_first_set.sv:21: ERROR: syntax error, unexpected '{'\n",
      "\n",
      "Working on find_last_set.sv\n",
      "Command failed with exit code: 1\n",
      "Error message: /home/sean/github/RTL_Design_Projects/common/find_last_set.sv:21: ERROR: syntax error, unexpected '{'\n",
      "\n",
      "Working on fixed_prio_arb.sv\n",
      "Working on full_adder.sv\n",
      "Working on full_subtractor.sv\n",
      "Working on glitch_free_n_dff_arn.sv\n",
      "Working on gray2bin.sv\n",
      "Working on half_adder.sv\n",
      "Working on half_subtractor.sv\n",
      "Working on hex_to_7seg.sv\n",
      "Working on leading_one_trailing_one.sv\n",
      "Working on lfsr.sv\n",
      "Working on load_clear_counter.sv\n",
      "Working on pipelined_divider.sv\n",
      "Working on priority_encoder_enable.sv\n",
      "Working on pwm.sv\n",
      "Working on reciprocal_divider.sv\n",
      "Working on reverse_vector.sv\n",
      "Working on ripple_carry_adder.sv\n",
      "Working on ripple_carry_subtractor.sv\n",
      "Working on round_robin_arbiter.sv\n",
      "Working on rrb_arb.sv\n",
      "Working on srt_divider.sv\n",
      "Working on sync_fifo.sv\n",
      "Working on unviersal_shift_register.sv\n",
      "Working on wallis_tree_multiplier.sv\n",
      "Working on weighted_round_robin.sv\n",
      "Command failed with exit code: 1\n",
      "Error message: /home/sean/github/RTL_Design_Projects/common/weighted_round_robin.sv:11: ERROR: syntax error, unexpected '[', expecting TOK_ID\n",
      "\n"
     ]
    }
   ],
   "source": [
    "for dut in sorted(file_list):\n",
    "    if '.sv' not in dut:\n",
    "        continue\n",
    "    print(f'Working on {dut}')\n",
    "\n",
    "    my_command = f'yowasp-yosys -Q -p \"read_verilog -sv {path_in}{dut}; ; proc;\"'\n",
    "    rpt = dut.replace('.sv', '.txt')\n",
    "    output_file = f'{path_rpt}{rpt}'\n",
    "\n",
    "    # Execute the command and capture both stdout and stderr\n",
    "    try:\n",
    "        completed_process = subprocess.run(my_command, shell=True, check=True, capture_output=True, text=True)\n",
    "        output_text = completed_process.stdout\n",
    "\n",
    "        # Save the output to a file\n",
    "        with open(output_file, 'w') as file:\n",
    "            file.write(output_text)\n",
    "\n",
    "        # print(\"Command executed successfully. Output saved to:\", output_file)\n",
    "\n",
    "    except subprocess.CalledProcessError as e:\n",
    "        print(\"Command failed with exit code:\", e.returncode)\n",
    "        print(\"Error message:\", e.stderr)\n",
    "        # Save the output to a file\n",
    "        with open(output_file, 'w') as file:\n",
    "            file.write(e.stderr)\n"
   ]
  },
  {
   "cell_type": "code",
   "execution_count": null,
   "metadata": {},
   "outputs": [],
   "source": []
  },
  {
   "cell_type": "code",
   "execution_count": null,
   "metadata": {},
   "outputs": [],
   "source": []
  },
  {
   "cell_type": "code",
   "execution_count": 5,
   "metadata": {},
   "outputs": [
    {
     "name": "stdout",
     "output_type": "stream",
     "text": [
      "Command executed successfully. Output saved to: /home/sean/github/RTL_Design_Projects/reports/common/lint/round_robin_arbiter.sv\n"
     ]
    }
   ],
   "source": [
    "path_in = '/home/sean/github/RTL_Design_Projects/common/'\n",
    "path_rpt = '/home/sean/github/RTL_Design_Projects/reports/common/lint/'\n",
    "\n",
    "dut = 'round_robin_arbiter.sv'\n",
    "output_file = f'{path_rpt}{dut}'\n",
    "\n",
    "my_command = f'yowasp-yosys -Q -p \"read_verilog -sv {path_in}{dut}; ; proc;\"'\n",
    "\n",
    "# Execute the command and capture both stdout and stderr\n",
    "try:\n",
    "    completed_process = subprocess.run(my_command, shell=True, check=True, capture_output=True, text=True)\n",
    "    output_text = completed_process.stdout\n",
    "\n",
    "    # Save the output to a file\n",
    "    with open(output_file, 'w') as file:\n",
    "        file.write(output_text)\n",
    "\n",
    "    print(\"Command executed successfully. Output saved to:\", output_file)\n",
    "\n",
    "except subprocess.CalledProcessError as e:\n",
    "    print(\"Command failed with exit code:\", e.returncode)\n",
    "    print(\"Error message:\", e.stderr)\n"
   ]
  }
 ],
 "metadata": {
  "kernelspec": {
   "display_name": ".venv",
   "language": "python",
   "name": "python3"
  },
  "language_info": {
   "codemirror_mode": {
    "name": "ipython",
    "version": 3
   },
   "file_extension": ".py",
   "mimetype": "text/x-python",
   "name": "python",
   "nbconvert_exporter": "python",
   "pygments_lexer": "ipython3",
   "version": "3.10.6"
  },
  "orig_nbformat": 4
 },
 "nbformat": 4,
 "nbformat_minor": 2
}
