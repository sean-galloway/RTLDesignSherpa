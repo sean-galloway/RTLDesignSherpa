{
 "cells": [
  {
   "cell_type": "code",
   "execution_count": 121,
   "metadata": {},
   "outputs": [],
   "source": [
    "import os\n",
    "from os import listdir\n",
    "from os.path import isfile, join, exists\n",
    "import glob\n",
    "import subprocess\n",
    "import math"
   ]
  },
  {
   "cell_type": "code",
   "execution_count": 122,
   "metadata": {},
   "outputs": [],
   "source": [
    "###############################################################################\n",
    "# REMatcher is a utility class to make regex's work similar to Perl\n",
    "# NOTE: if there are any changes needed in this function contact Sean.\n",
    "###############################################################################\n",
    "class REMatcher(object):\n",
    "    ''' This is a utility function to help out with matching regex's and\n",
    "        grabbing the matches out in a way that is similar to how perl\n",
    "        does it.\n",
    "    '''\n",
    "    def __init__(self, matchstring: str) -> None:\n",
    "        self.matchstring = matchstring\n",
    "\n",
    "    def match(self, regexp: str) -> bool:\n",
    "        self.rematch = re.match(regexp, self.matchstring,\n",
    "                                re.IGNORECASE |\n",
    "                                re.MULTILINE |\n",
    "                                re.DOTALL\n",
    "                                )\n",
    "        return bool(self.rematch)\n",
    "\n",
    "    def group(self, i: int) -> str:\n",
    "        return \"Error 999\" if self.rematch is None else self.rematch.group(i)"
   ]
  }
 ],
 "metadata": {
  "kernelspec": {
   "display_name": ".venv",
   "language": "python",
   "name": "python3"
  },
  "language_info": {
   "codemirror_mode": {
    "name": "ipython",
    "version": 3
   },
   "file_extension": ".py",
   "mimetype": "text/x-python",
   "name": "python",
   "nbconvert_exporter": "python",
   "pygments_lexer": "ipython3",
   "version": "3.10.12"
  },
  "orig_nbformat": 4
 },
 "nbformat": 4,
 "nbformat_minor": 2
}
