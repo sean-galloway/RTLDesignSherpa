{
 "cells": [
  {
   "cell_type": "code",
   "execution_count": 121,
   "metadata": {},
   "outputs": [],
   "source": [
    "import os\n",
    "from os import listdir\n",
    "from os.path import isfile, join, exists\n",
    "import glob\n",
    "import subprocess\n",
    "import math"
   ]
  },
  {
   "cell_type": "code",
   "execution_count": 122,
   "metadata": {},
   "outputs": [],
   "source": [
    "###############################################################################\n",
    "# REMatcher is a utility class to make regex's work similar to Perl\n",
    "# NOTE: if there are any changes needed in this function contact Sean.\n",
    "###############################################################################\n",
    "class REMatcher(object):\n",
    "    ''' This is a utility function to help out with matching regex's and\n",
    "        grabbing the matches out in a way that is similar to how perl\n",
    "        does it.\n",
    "    '''\n",
    "    def __init__(self, matchstring: str) -> None:\n",
    "        self.matchstring = matchstring\n",
    "\n",
    "    def match(self, regexp: str) -> bool:\n",
    "        self.rematch = re.match(regexp, self.matchstring,\n",
    "                                re.IGNORECASE |\n",
    "                                re.MULTILINE |\n",
    "                                re.DOTALL\n",
    "                                )\n",
    "        return bool(self.rematch)\n",
    "\n",
    "    def group(self, i: int) -> str:\n",
    "        return \"Error 999\" if self.rematch is None else self.rematch.group(i)"
   ]
  },
  {
   "cell_type": "code",
   "execution_count": 123,
   "metadata": {},
   "outputs": [],
   "source": [
    "# for(stage = 0; stage < STAGES - 1; stage=stage+1) begin : STAGE_GEN\n",
    "#     for(i = 0; i < (stage == 0 ? C : C >> stage); i=i+2) begin : ADDER_GEN\n",
    "#         if (i < C - 2**stage) begin\n",
    "#             math_adder_carry_lookahead #(N) adder_inst (\n",
    "#                 .i_a(w_intermediate_sums[stage][i][N-1:0]),  \n",
    "#                 .i_b(w_intermediate_sums[stage][i + 1][N-1:0]),  \n",
    "#                 .i_c(1'b0),  \n",
    "#                 .ow_sum(w_intermediate_sums[stage + 1][i/2][N-1:0]),  \n",
    "#                 .ow_c(w_c[stage][i/2])  // Adjusted indexing\n",
    "#             );\n",
    "#         end else if (i == (C - 2**stage) && stage == 0) begin\n",
    "#             assign w_intermediate_sums[stage + 1][i/2][N+stage:0] = w_intermediate_sums[stage][i][N+stage-1:0];  \n",
    "#         end\n",
    "#     end\n",
    "# end\n"
   ]
  },
  {
   "cell_type": "code",
   "execution_count": 4,
   "metadata": {},
   "outputs": [
    {
     "name": "stdout",
     "output_type": "stream",
     "text": [
      "[2, 3, 4, 6, 8, 12, 16]\n"
     ]
    }
   ],
   "source": [
    "\n",
    "import math\n",
    "\n",
    "def generate_dadda_numbers(N):\n",
    "    dadda_numbers = [2]\n",
    "    next_number = 2\n",
    "    multiply_by = 1.5  # Start by multiplying by 1.5\n",
    "\n",
    "    while True:\n",
    "        next_number = math.ceil(next_number * multiply_by)\n",
    "        if next_number > N:\n",
    "            break\n",
    "        dadda_numbers.append(next_number)\n",
    "\n",
    "        # Alternate between 1.5 and 4/3\n",
    "        multiply_by = 4 / 3 if multiply_by == 1.5 else 1.5\n",
    "    return dadda_numbers\n",
    "\n",
    "N = 16  # You can change this to any value up to which you want Dadda numbers\n",
    "print(generate_dadda_numbers(N))\n"
   ]
  },
  {
   "cell_type": "code",
   "execution_count": 5,
   "metadata": {},
   "outputs": [],
   "source": [
    "def generate_partial_products(N, f):\n",
    "    # Generate partial products\n",
    "    f.write(\"// Partial products generation\\n\")\n",
    "\n",
    "    # Define bit groups here, then populate it as we generate the partial products\n",
    "    bit_groups = {i: [] for i in range(2 * N)}\n",
    "\n",
    "    # Determine the max number of digits needed\n",
    "    max_digits = len(str(N - 1))\n",
    "    \n",
    "    for i in range(N):\n",
    "        for j in range(N):\n",
    "            formatted_i = str(i).zfill(max_digits)\n",
    "            formatted_j = str(j).zfill(max_digits)\n",
    "\n",
    "            f.write(f\"wire w_pp_{formatted_i}_{formatted_j} = i_multiplier[{i:2}] & i_multiplicand[{j:2}];\\n\")\n",
    "            bit_groups[i + j].append(f\"w_pp_{formatted_i}_{formatted_j}\")\n",
    "\n",
    "    f.write(\"\\n\")\n",
    "    return bit_groups\n"
   ]
  },
  {
   "cell_type": "code",
   "execution_count": 6,
   "metadata": {},
   "outputs": [
    {
     "name": "stdout",
     "output_type": "stream",
     "text": [
      "{0: ['w_pp_0_0'], 1: ['w_pp_0_1', 'w_pp_1_0'], 2: ['w_pp_0_2', 'w_pp_1_1', 'w_pp_2_0'], 3: ['w_pp_0_3', 'w_pp_1_2', 'w_pp_2_1', 'w_pp_3_0'], 4: ['w_pp_0_4', 'w_pp_1_3', 'w_pp_2_2', 'w_pp_3_1', 'w_pp_4_0'], 5: ['w_pp_0_5', 'w_pp_1_4', 'w_pp_2_3', 'w_pp_3_2', 'w_pp_4_1', 'w_pp_5_0'], 6: ['w_pp_0_6', 'w_pp_1_5', 'w_pp_2_4', 'w_pp_3_3', 'w_pp_4_2', 'w_pp_5_1', 'w_pp_6_0'], 7: ['w_pp_0_7', 'w_pp_1_6', 'w_pp_2_5', 'w_pp_3_4', 'w_pp_4_3', 'w_pp_5_2', 'w_pp_6_1', 'w_pp_7_0'], 8: ['w_pp_1_7', 'w_pp_2_6', 'w_pp_3_5', 'w_pp_4_4', 'w_pp_5_3', 'w_pp_6_2', 'w_pp_7_1'], 9: ['w_pp_2_7', 'w_pp_3_6', 'w_pp_4_5', 'w_pp_5_4', 'w_pp_6_3', 'w_pp_7_2'], 10: ['w_pp_3_7', 'w_pp_4_6', 'w_pp_5_5', 'w_pp_6_4', 'w_pp_7_3'], 11: ['w_pp_4_7', 'w_pp_5_6', 'w_pp_6_5', 'w_pp_7_4'], 12: ['w_pp_5_7', 'w_pp_6_6', 'w_pp_7_5'], 13: ['w_pp_6_7', 'w_pp_7_6'], 14: ['w_pp_7_7'], 15: []}\n"
     ]
    }
   ],
   "source": [
    "N=8\n",
    "with open('junk.txt', 'w') as f:\n",
    "    bit_groups = generate_partial_products(N,f)\n",
    "    print(bit_groups)"
   ]
  }
 ],
 "metadata": {
  "kernelspec": {
   "display_name": ".venv",
   "language": "python",
   "name": "python3"
  },
  "language_info": {
   "codemirror_mode": {
    "name": "ipython",
    "version": 3
   },
   "file_extension": ".py",
   "mimetype": "text/x-python",
   "name": "python",
   "nbconvert_exporter": "python",
   "pygments_lexer": "ipython3",
   "version": "3.10.12"
  },
  "orig_nbformat": 4
 },
 "nbformat": 4,
 "nbformat_minor": 2
}
