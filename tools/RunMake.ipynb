{
 "cells": [
  {
   "cell_type": "code",
   "execution_count": 53,
   "metadata": {},
   "outputs": [],
   "source": [
    "import os\n",
    "from os import listdir\n",
    "from os.path import isdir, join, exists\n",
    "import glob\n",
    "import subprocess\n",
    "import re\n"
   ]
  },
  {
   "cell_type": "code",
   "execution_count": 54,
   "metadata": {},
   "outputs": [],
   "source": [
    "###############################################################################\n",
    "# REMatcher is a utility class to make regex's work similar to Perl\n",
    "# NOTE: if there are any changes needed in this function contact Sean.\n",
    "###############################################################################\n",
    "class REMatcher(object):\n",
    "    ''' This is a utility function to help out with matching regex's and\n",
    "        grabbing the matches out in a way that is similar to how perl\n",
    "        does it.\n",
    "    '''\n",
    "    def __init__(self, matchstring: str) -> None:\n",
    "        self.matchstring = matchstring\n",
    "\n",
    "    def match(self, regexp: str) -> bool:\n",
    "        self.rematch = re.match(regexp, self.matchstring,\n",
    "                                re.IGNORECASE |\n",
    "                                re.MULTILINE |\n",
    "                                re.DOTALL\n",
    "                                )\n",
    "        return bool(self.rematch)\n",
    "\n",
    "    def group(self, i: int) -> str:\n",
    "        return \"Error 999\" if self.rematch is None else self.rematch.group(i)"
   ]
  },
  {
   "cell_type": "code",
   "execution_count": 55,
   "metadata": {},
   "outputs": [],
   "source": [
    "def run_make(dut: str, path_in: str, path_rpt: str):\n",
    "    my_command = 'make'\n",
    "    rpt = f'{dut}.txt'\n",
    "    output_file = f'{path_rpt}{rpt}'\n",
    "    py_file = f'{path_in}/__pycache__/'\n",
    "    if os.path.exists(py_file):\n",
    "        os.remove(py_file)\n",
    "\n",
    "    # Execute the command and capture both stdout and stderr\n",
    "    try:\n",
    "        completed_process = subprocess.run('make clean', shell=True, check=True, capture_output=True, text=True)\n",
    "        completed_process = subprocess.run(my_command, shell=True, check=True, capture_output=True, text=True)\n",
    "        output_text = completed_process.stdout\n",
    "\n",
    "        # Save the output to a file\n",
    "        with open(output_file, 'w') as file:\n",
    "            file.write(output_text)\n",
    "\n",
    "        # print(\"Command executed successfully. Output saved to:\", output_file)\n",
    "\n",
    "    except subprocess.CalledProcessError as e:\n",
    "        print(\"Command failed with exit code:\", e.returncode)\n",
    "        print(\"Error message:\", e.stderr)\n",
    "        # Save the output to a file\n",
    "        with open(output_file, 'w') as file:\n",
    "            file.write(e.stderr)"
   ]
  },
  {
   "cell_type": "code",
   "execution_count": 56,
   "metadata": {},
   "outputs": [
    {
     "name": "stdout",
     "output_type": "stream",
     "text": [
      "Command failed with exit code: 2\n",
      "Error message: make[1]: *** No rule to make target '/home/sean/github/RTL_Design_Projects/val/common_cocotb_only/ksalu/../tinyalu_hdl/verilog/tinyalu.sv', needed by 'sim_build/sim.vvp'.  Stop.\n",
      "make: *** [/home/sean/github/RTL_Design_Projects/.venv/lib/python3.10/site-packages/cocotb/share/makefiles/Makefile.inc:40: sim] Error 2\n",
      "\n",
      "Command failed with exit code: 2\n",
      "Error message: make: *** No rule to make target 'clean'.  Stop.\n",
      "\n"
     ]
    }
   ],
   "source": [
    "path_in = '/home/sean/github/RTL_Design_Projects/val/common_cocotb_only/'\n",
    "path_rpt = '/home/sean/github/RTL_Design_Projects/reports/common_cocotb_only/'\n",
    "file_list = [f for f in listdir(path_in) if isdir(join(path_in, f))]\n",
    "current_dir = os.getcwd()\n",
    "\n",
    "for dut in sorted(file_list):\n",
    "    # print(f'Working on {dut}')\n",
    "    os.chdir(f'{path_in}{dut}')\n",
    "    run_make(dut, path_in, path_rpt)\n",
    "\n",
    "os.chdir(current_dir)"
   ]
  },
  {
   "cell_type": "code",
   "execution_count": null,
   "metadata": {},
   "outputs": [],
   "source": []
  },
  {
   "cell_type": "code",
   "execution_count": null,
   "metadata": {},
   "outputs": [],
   "source": []
  },
  {
   "cell_type": "code",
   "execution_count": null,
   "metadata": {},
   "outputs": [],
   "source": []
  },
  {
   "cell_type": "code",
   "execution_count": null,
   "metadata": {},
   "outputs": [],
   "source": [
    "\n"
   ]
  }
 ],
 "metadata": {
  "kernelspec": {
   "display_name": ".venv",
   "language": "python",
   "name": "python3"
  },
  "language_info": {
   "codemirror_mode": {
    "name": "ipython",
    "version": 3
   },
   "file_extension": ".py",
   "mimetype": "text/x-python",
   "name": "python",
   "nbconvert_exporter": "python",
   "pygments_lexer": "ipython3",
   "version": "3.10.12"
  },
  "orig_nbformat": 4
 },
 "nbformat": 4,
 "nbformat_minor": 2
}
